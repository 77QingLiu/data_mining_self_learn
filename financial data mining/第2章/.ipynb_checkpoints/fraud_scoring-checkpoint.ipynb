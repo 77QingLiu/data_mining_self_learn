{
 "cells": [
  {
   "cell_type": "markdown",
   "metadata": {},
   "source": [
    "# 2.1案例背景"
   ]
  },
  {
   "cell_type": "markdown",
   "metadata": {},
   "source": [
    "随着人们消费观念的转变，透支和信用消费越来越被大众接受，第三方支付和信用卡业务迅速增长。\n",
    "欺诈、造假就如同信用的伴生品，发生率也在逐年增加，每年仅因信用卡欺诈损失金额就高达数亿，其中70%以上为伪卡、非面对面欺诈等交易类欺诈。\n",
    "可以说，欺诈风险防范成为信用卡以及第三方支付、消费金融等互联网金融产业共同面临的难题。\n",
    "道高一尺，魔高一丈，行业不同欺诈形式也不同，而欺诈手段更是不断推陈出新，目前并没有一种通用的反欺诈技术，能够识别并防范所有的欺诈。\n",
    "总体而言，常用的反欺诈技术可归结为三类：\n",
    "1. 欺诈规则集\n",
    "通过建立规则引擎或者简单的分类模型，对比欺诈行为和正常行为，归纳欺诈行为所具有的个性化特征，一规则的形式保存在欺诈规则集中。通常一个规则集有几百或上千条规则，可以看做从大量欺诈案例中提炼出来的“专家知识”，但规则集的建立是个不断积累的过程。\n",
    "2. 评分模型\n",
    "采用机器学习算法建立复杂的分类模型，基于对大量历史数据的训练、学习，识别欺诈行为所特有的模式，对个体进行评分，综合计算欺诈概率。逻辑回归，神经网络，随机森林等是目前较为常用的算法，这些算法各有优缺点，可根据数据和业务场景进行选择。无论应用什么算法，评分模型在本质上都可看成是二分类问题，根据已知“欺诈”和“正常标签”，挖掘出欺诈样例的典型特征和行为模式，注意，拥有足够多的历史数据是前提。\n",
    "3. 社会关系网络\n",
    "适用于团伙作案的情形，构建个体关系，识别并防范欺诈团伙。与评分模型相比，这种无监督分析方式特别适用于掌握大量客户信息但又没有“欺诈”与“正常”标签的场景，例如大数据公司。"
   ]
  },
  {
   "cell_type": "markdown",
   "metadata": {},
   "source": [
    "C银行信用卡中心在对欺诈风险和反欺诈技术做了充分研究之后，融合内外部数据，建立以评分模型为支撑的欺诈识别和防范系统，以满足精细化管理需要。评分模型分为针对每个客户的欺诈评分和针对每一次交易的欺诈评分，这里着重介绍客户欺诈评分模型的构建过程。"
   ]
  },
  {
   "cell_type": "markdown",
   "metadata": {},
   "source": [
    "# 2.2 数据准备与预处理"
   ]
  },
  {
   "cell_type": "markdown",
   "metadata": {},
   "source": [
    "### 2.2.1 数据源"
   ]
  },
  {
   "cell_type": "markdown",
   "metadata": {},
   "source": [
    "营销类评分模型追求高的响应率和预测的准确性，风险和欺诈模型则追求高的覆盖度，最好能将欺诈客户一网打尽，哪怕误报率会高一些。\n",
    "更多的数据源意味着更可能全面覆盖欺诈案例，发现各种形态的欺诈行为和特征，因此训练欺诈评分模型的数据量和变量数都会更多，除了信用卡公司自有的数据之外，各种外部数据都会被引进，尝试并通过模型评估。\n",
    "下面以近一年的引用卡交易信息为主体，辅以三个月内网络行为以及法院、电信、人形征信等方面的外部数据，以便尽可能全面地了解客户，为欺诈者画出负面画像，从而预防欺诈行为的发生。\n",
    "具体如下图所示\n",
    "![](c2_1.jpg)\n",
    "从已掌握的近一年的历史数据中，选取有欺诈行为的客户作为坏样本，与正常客户做对比。相对纯粹的数据公司，掌握“坏”样本也是信用卡公司和互联网金融公司的优势，即可通过有监督的机器学习，评估各类数据对于反欺诈的实际价值，而不仅仅是建立各类查询信息库。"
   ]
  },
  {
   "cell_type": "markdown",
   "metadata": {},
   "source": [
    "这里样例有3个数据源头，均为xlsx格式存储\n",
    "* FRAUD_TRAIN_SAMP1（训练数据集1）\n",
    "* FRAUD_TRAIN_SAMP2（训练数据集2）\n",
    "* FRAUD_VALDT_SAMP1（验证数据集1）"
   ]
  },
  {
   "cell_type": "code",
   "execution_count": null,
   "metadata": {},
   "outputs": [],
   "source": [
    "libname test xlsx \"FRAUD_TRAIN_SAMP1.xlsx\";"
   ]
  },
  {
   "cell_type": "code",
   "execution_count": 3,
   "metadata": {},
   "outputs": [
    {
     "data": {
      "text/html": [
       "<!DOCTYPE html PUBLIC \"-//W3C//DTD HTML 4.01//EN\"\n",
       "   \"http://www.w3.org/TR/html4/strict.dtd\">\n",
       "\n",
       "<html>\n",
       "<head>\n",
       "  <title></title>\n",
       "  <meta http-equiv=\"content-type\" content=\"text/html; charset=None\">\n",
       "  <style type=\"text/css\">\n",
       "td.linenos { background-color: #f0f0f0; padding-right: 10px; }\n",
       "span.lineno { background-color: #f0f0f0; padding: 0 5px 0 5px; }\n",
       "pre { line-height: 125%; }\n",
       "body .hll { background-color: #ffffcc }\n",
       "body  { background: #ffffff; }\n",
       "body .c { color: #0000FF } /* Comment */\n",
       "body .k { color: #ff0000; font-weight: bold } /* Keyword */\n",
       "body .n { color: #008000 } /* Name */\n",
       "body .ch { color: #0000FF } /* Comment.Hashbang */\n",
       "body .cm { color: #0000FF } /* Comment.Multiline */\n",
       "body .cp { color: #0000FF } /* Comment.Preproc */\n",
       "body .cpf { color: #0000FF } /* Comment.PreprocFile */\n",
       "body .c1 { color: #0000FF } /* Comment.Single */\n",
       "body .cs { color: #0000FF } /* Comment.Special */\n",
       "body .kc { color: #ff0000; font-weight: bold } /* Keyword.Constant */\n",
       "body .kd { color: #ff0000; font-weight: bold } /* Keyword.Declaration */\n",
       "body .kn { color: #ff0000; font-weight: bold } /* Keyword.Namespace */\n",
       "body .kp { color: #ff0000; font-weight: bold } /* Keyword.Pseudo */\n",
       "body .kr { color: #ff0000; font-weight: bold } /* Keyword.Reserved */\n",
       "body .kt { color: #ff0000; font-weight: bold } /* Keyword.Type */\n",
       "body .s { color: #111111 } /* Literal.String */\n",
       "body .na { color: #008000 } /* Name.Attribute */\n",
       "body .nb { color: #008000 } /* Name.Builtin */\n",
       "body .nc { color: #008000 } /* Name.Class */\n",
       "body .no { color: #008000 } /* Name.Constant */\n",
       "body .nd { color: #008000 } /* Name.Decorator */\n",
       "body .ni { color: #008000 } /* Name.Entity */\n",
       "body .ne { color: #008000 } /* Name.Exception */\n",
       "body .nf { color: #008000 } /* Name.Function */\n",
       "body .nl { color: #008000 } /* Name.Label */\n",
       "body .nn { color: #008000 } /* Name.Namespace */\n",
       "body .nx { color: #008000 } /* Name.Other */\n",
       "body .py { color: #008000 } /* Name.Property */\n",
       "body .nt { color: #008000 } /* Name.Tag */\n",
       "body .nv { color: #008000 } /* Name.Variable */\n",
       "body .sa { color: #111111 } /* Literal.String.Affix */\n",
       "body .sb { color: #111111 } /* Literal.String.Backtick */\n",
       "body .sc { color: #111111 } /* Literal.String.Char */\n",
       "body .dl { color: #111111 } /* Literal.String.Delimiter */\n",
       "body .sd { color: #111111 } /* Literal.String.Doc */\n",
       "body .s2 { color: #111111 } /* Literal.String.Double */\n",
       "body .se { color: #111111 } /* Literal.String.Escape */\n",
       "body .sh { color: #111111 } /* Literal.String.Heredoc */\n",
       "body .si { color: #111111 } /* Literal.String.Interpol */\n",
       "body .sx { color: #111111 } /* Literal.String.Other */\n",
       "body .sr { color: #111111 } /* Literal.String.Regex */\n",
       "body .s1 { color: #111111 } /* Literal.String.Single */\n",
       "body .ss { color: #111111 } /* Literal.String.Symbol */\n",
       "body .bp { color: #008000 } /* Name.Builtin.Pseudo */\n",
       "body .fm { color: #008000 } /* Name.Function.Magic */\n",
       "body .vc { color: #008000 } /* Name.Variable.Class */\n",
       "body .vg { color: #008000 } /* Name.Variable.Global */\n",
       "body .vi { color: #008000 } /* Name.Variable.Instance */\n",
       "body .vm { color: #008000 } /* Name.Variable.Magic */\n",
       "\n",
       "  </style>\n",
       "</head>\n",
       "<body>\n",
       "<h2></h2>\n",
       "\n",
       "<div class=\"highlight\"><pre><span></span>\f",
       "<span class=\"err\">SAS</span> <span class=\"err\">系统</span><br><br><span class=\"s\">55         ods listing close;ods html5 (id=saspy_internal) file=_tomods1 options(bitmap_mode=&#39;inline&#39;) device=svg; ods graphics on / outputfmt=png;</span><br><span class=\"cm\">NOTE: 正在写入 HTML5(SASPY_INTERNAL) Body（主体）文件: _TOMODS1</span><br><span class=\"s\">56         </span><br><span class=\"s\">57         data a;</span><br><span class=\"s\">58             set test.sheet1;</span><br><span class=\"s\">59         run;</span><br><br><span class=\"cm\">NOTE: The import data set has 10000 observations and 256 variables.</span><br><span class=\"cm\">NOTE: 从数据集 TEST.sheet1. 读取了 10000 个观测</span><br><span class=\"cm\">NOTE: 数据集 WORK.A 有 10000 个观测和 256 个变量。</span><br><span class=\"cm\">NOTE: 压缩的数据集 WORK.A 大小减少了 81.19%。 </span><br><span class=\"cm\">       压缩为 41 页；不压缩将会要求 218 页。</span><br><span class=\"cm\">NOTE: “DATA 语句”所用时间（总处理时间）:</span><br><span class=\"cm\">      实际时间          20.63 秒</span><br><span class=\"cm\">      CPU 时间          20.45 秒</span><br><span class=\"cm\">      </span><br><br><span class=\"s\">60         </span><br><span class=\"s\">61         ods html5 (id=saspy_internal) close;ods listing;</span><br><span class=\"s\">62         </span><br></pre></div>\n",
       "</body>\n",
       "</html>\n"
      ],
      "text/plain": [
       "<IPython.core.display.HTML object>"
      ]
     },
     "execution_count": 3,
     "metadata": {},
     "output_type": "execute_result"
    }
   ],
   "source": [
    "data a;\n",
    "    set test.sheet1;\n",
    "run;"
   ]
  },
  {
   "cell_type": "code",
   "execution_count": null,
   "metadata": {},
   "outputs": [],
   "source": [
    "proc print data =a; run;"
   ]
  },
  {
   "cell_type": "code",
   "execution_count": null,
   "metadata": {
    "collapsed": true
   },
   "outputs": [],
   "source": []
  }
 ],
 "metadata": {
  "kernelspec": {
   "display_name": "SAS",
   "language": "sas",
   "name": "sas"
  },
  "language_info": {
   "codemirror_mode": "sas",
   "file_extension": ".sas",
   "mimetype": "text/x-sas",
   "name": "sas"
  }
 },
 "nbformat": 4,
 "nbformat_minor": 2
}
